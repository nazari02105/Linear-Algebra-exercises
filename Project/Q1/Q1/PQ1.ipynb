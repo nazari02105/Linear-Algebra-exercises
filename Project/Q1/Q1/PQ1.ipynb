{
 "cells": [
  {
   "cell_type": "markdown",
   "id": "2b9d508f",
   "metadata": {},
   "source": [
    "<div dir=\"rtl\" align=\"center\">\n",
    "\n",
    "به نام خداوند بخشنده مهربان\n",
    "\n",
    "<h1>\n",
    "پروژه پایانی جبر خطی\n",
    "</h1>\n",
    "\n",
    "حمیدرضا ربیعی، مریم رمضانی\n",
    "\n",
    "</div>"
   ]
  },
  {
   "cell_type": "markdown",
   "id": "4288bb7d",
   "metadata": {},
   "source": [
    "<div dir=\"rtl\">\n",
    "\n",
    "نام و نام‌خانوادگی:‌ \n",
    "\n",
    "شماره دانشجویی: \n",
    "\n",
    "</div>"
   ]
  },
  {
   "cell_type": "markdown",
   "id": "8ecaf7bf",
   "metadata": {},
   "source": [
    "<div dir=\"rtl\">\n",
    "    <h1>\n",
    "        چهره‌های ویژه\n",
    "    </h1>\n",
    "</div>"
   ]
  },
  {
   "cell_type": "markdown",
   "id": "458ec565",
   "metadata": {},
   "source": [
    "<div dir=\"rtl\" style=\"font-size:18px\"> \n",
    "    در الگوریتم‌های تشخیص چهره، درون عکس‌ها به دنبال تشخیص خصوصیت‌های خاص عکس بودند. به طور مثال چشم، بینی و ...\n",
    "     که می‌توانست حاکی از وجود چهره در عکس باشند. واضح است که چنین روش‌هایی هزینه‌بر و در موارد زیادی نادقیق هستند.\n",
    "    <br/>\n",
    "    <br/>\n",
    "    در این پروژه به دنبال پیاده سازی روشی هستیم که این تشخیص را به گونه‌ای دیگر انجام می‌دهد.\n",
    "    در این روش مانند روش قبل به دنبال پیدا کردن مشخصه‌هایی هستیم که یک چهره را تشخیص میدهند ، اما این مشخصه‌ها را با روش دیگری می‌خواهیم پیاده کنیم.\n",
    "</div>"
   ]
  },
  {
   "cell_type": "markdown",
   "id": "12f2bf96",
   "metadata": {},
   "source": [
    "## Load Data (10 points)"
   ]
  },
  {
   "cell_type": "markdown",
   "id": "297f4e63",
   "metadata": {},
   "source": [
    "\n",
    "\n",
    "<br/>\n",
    "\n",
    "<div dir=\"rtl\" style=\"font-size:18px\">\n",
    "    قبل از اینکه درباره پیاده‌سازی این الگوریتم صحبت کنیم لازم است داده‌هایی که مورد استفاده قرار می‌دهیم را داشته باشیم.\n",
    "    داده‌های مورد نظر در زیپ مربوطه همراه این نوتبوک قرار گرفته‌است.\n",
    "    <br/>\n",
    "    دقت کنید که این دیتاست شامل تصاویر مربوط به چهره 200 فرد است.\n",
    "    هر کدام از افراد دو عکس یکی حالت طبیعی و یکی خندان دارند.\n",
    "    پس در کل 400 عکس داریم.\n",
    "    ابتدا تمام عکس‌ها را لود کنید و داشته باشید که در ادامه به آن‌ها نیاز پیدا می‌کنید.\n",
    "    <br/>\n",
    "    <br/>\n",
    "    در نهایت برای این که مطمئن شوید که دیتا را درست لود کرده‌اید،\n",
    "    به طور رندوم 5 تا از این چهره‌ها را در دو حالت خندان و عادی نمایش دهید. برای اینکار میتوانید از تابع imshow از لایبرری matplotlib استفاده کنید.\n",
    "    <br/>\n",
    "</div>"
   ]
  },
  {
   "cell_type": "code",
   "execution_count": null,
   "id": "6962b87c",
   "metadata": {},
   "outputs": [],
   "source": []
  },
  {
   "cell_type": "markdown",
   "id": "026e0ad5",
   "metadata": {},
   "source": [
    "<br/>\n",
    "<div dir=\"rtl\" style=\"font-size:18px\">\n",
    "حال فعلا تنها با عکس‌های چهره طبیعی کار داریم.\n",
    "    190 تا عکس اول از آن را در نظر بگیرید\n",
    "     هر کدام را به صورت یک وکتور تک بعدی $\\Gamma_i$ در بیاورید.\n",
    "     در نهایت ماتریس حاصل از داده‌ها که $\\Gamma$ است\n",
    "    را تشکیل دهید. دقت کنید که ستون $i$ ام این ماتریس\n",
    "    $\\Gamma_i$ است.\n",
    "    <br/>\n",
    "<div/>"
   ]
  },
  {
   "cell_type": "code",
   "execution_count": null,
   "id": "b2d5dbb9",
   "metadata": {},
   "outputs": [],
   "source": []
  },
  {
   "cell_type": "markdown",
   "id": "ba9b6ed8",
   "metadata": {},
   "source": [
    "# PCA \n",
    "<br/>\n",
    "<br/>\n",
    "\n",
    "<div dir=\"rtl\" style=\"font-size:18px\">\n",
    " <br/>\n",
    "    الگوریتم Principal Component Analysis یا همان PCA یک روش برای کاهش ابعاد داده‌ی موردنظر است که در حوزه یادگیری ماشین و علوم داده کاربرد فراوان دارد.\n",
    "با کاهش ابعاد سادگی را افزایش داده و در عین حال همانگونه که انتظار می‌رود ورودی با کاهش دقت همراه خواهد شد. در الگوریتم PCA تلاش بر این است که در عین کاهش ابعاد، کمترین میزان اطلاعات را از دست بدهیم.\n",
    "    پیشنهاد می‌شود قبل از انجام پروژه مطالعات بیشتری در رابطه با این الگوریتم داشته باشید.\n",
    "<br/>\n",
    "    <br/>\n",
    "در ادامه‌ی بخش‌ها می‌خواهیم PCA را پیاده سازی کنیم.\n",
    "گفتیم که برای تشخیص چهره‌ها به دنبال پیدا کردن مشخصه‌های خاص درون هر عکس هستیم. این مشخصه‌ها ممکن است ترکیبی از چند ویژگی درون عکس باشند، یا حتی ویژگی‌هایی \n",
    "    باشند که به طور طبیعی قادر به تشخیص آنها نیستیم.\n",
    "    در اینجا با استفاده از الگوریتم PCA در تلاش برای پیدا کردن همچین ویژگی‌هایی هستیم.\n",
    "    <br/>\n",
    "    <br/>\n",
    "با PCA قرار است کار زیر را انجام دهیم :\n",
    "    <br/>\n",
    "    <br/>\n",
    "فرض کنید هر عکس به صورت یک آرایه دو بعدی $N\\times M$ باشد ، بنابراین هر عکس را می‌توان با یک بردار به طول $N\\times M$ نشان دهیم، پس در یک فضای $N\\times M$ بعدی قرار دارد. فرض کنید $W$ فضایی باشد که تمامی عکس‌های صورت در آن قرار دارند ، اسم آن را Face Space بگذارید. در اینجا به دنبال پیدا کردن K بردار عمود بر هم هستیم که فضای $W$ را Span می‌کنند.\n",
    "    <div/>"
   ]
  },
  {
   "cell_type": "markdown",
   "id": "59d50896",
   "metadata": {},
   "source": [
    "## Mean image (5 points)\n",
    "\n",
    "<div dir=\"rtl\" style=\"font-size:18px\">\n",
    "    \n",
    "<div/>"
   ]
  },
  {
   "cell_type": "markdown",
   "id": "0f41a8ba",
   "metadata": {},
   "source": [
    "<div dir=\"rtl\" style=\"font-size:18px\">\n",
    "    در این قسمت برای نرمالایز کردن نیاز به \n",
    "    mean image\n",
    "    داریم.\n",
    "    آن را بدست آورید و تصویر آن را نمایش هم دهید.\n",
    "    $$\n",
    "    \\Psi = \\frac{1}{n}\\sum_{i = 1}^{n} \\Gamma_i\n",
    "    $$\n",
    "     در اینجا $n$ تعداد داده های شماست.\n",
    "     دقت کنید فعلا کل کار ما بر روی 190 عکس چهره طبیعی است.\n",
    "<div/>"
   ]
  },
  {
   "cell_type": "code",
   "execution_count": null,
   "id": "3c54a553",
   "metadata": {},
   "outputs": [],
   "source": []
  },
  {
   "cell_type": "markdown",
   "id": "7bd4e225",
   "metadata": {},
   "source": [
    "## Cov Matrix (15 points)\n",
    "\n",
    "<div dir=\"rtl\" style=\"font-size:18px\">\n",
    "    \n",
    "<div/>"
   ]
  },
  {
   "cell_type": "markdown",
   "id": "7f1b4829",
   "metadata": {},
   "source": [
    "<div dir=\"rtl\" style=\"font-size:18px\">\n",
    "    در این قسمت باید ماتریس کوواریانس را به صورت زیر تعریف کنید :\n",
    "    <br/>\n",
    "    $$\n",
    "    \\Phi_i = \\Gamma_i - \\Psi\n",
    "    $$\n",
    "    <br/>\n",
    "    $$\n",
    "    A = [ \\Phi_1 \\Phi_2 \\dots \\Phi_n ]\n",
    "    $$\n",
    "    <br/>\n",
    "    $$\n",
    "    C = A A^T\n",
    "    $$\n",
    "    <br/>\n",
    "    حال بردار ویژه های ماتریس $C$ به ترتیب بزرگی مقدار ویژه های متناظرشان ، Principal Components هایی هستند که ما می‌خواهیم.\n",
    "    <br/>\n",
    "    دقت کنید که ماتریس $C$ ماتریسی $(N \\times M)\\times (N \\times M)$ می‌باشد ، سعی کنید روش بهینه ای برای پیدا کردن بردار ویژه های آن پیاده سازی کنید.\n",
    "    به عنوان راهنمایی از \n",
    "    $A^T A$\n",
    "    کمک بگیرید.\n",
    "    <br/>\n",
    "    مقدار این مقادیر ویژه را سورت کنید و درون یک نمودار نشان دهید. \n",
    "    <br/>\n",
    "    بعد از سورت کردن مقدار ویژه‌ها ، بردار ویژه متناظر با 5 مقدار ویژه اول را بکشید.\n",
    "    این بردار‌های ویژه را eigen face می‌نامیم.\n",
    "    <br/>\n",
    "     در نهایت با کمی مطالعه معیاری را انتخاب کنید و تعداد مورد نیاز از Principal Component\n",
    "     ها از نظرتان را مشخص نمایید و آن تعداد بردار ویژه را انتخاب کنید.\n",
    "     این عدد را K در نظر بگیرید.\n",
    "     همچنین ماتریس شامل PCها را U در نظر بگیرید.\n",
    "    <br/>\n",
    "<div/>"
   ]
  },
  {
   "cell_type": "code",
   "execution_count": null,
   "id": "f5a4785d",
   "metadata": {},
   "outputs": [],
   "source": []
  },
  {
   "cell_type": "markdown",
   "id": "290c31bd",
   "metadata": {},
   "source": [
    "## Reconstruction images (20 points)"
   ]
  },
  {
   "cell_type": "markdown",
   "id": "77298a08",
   "metadata": {},
   "source": [
    "<div dir=\"rtl\" style=\"font-size:18px\">\n",
    "    در این قسمت قرار است که تابعی بنویسید که عکسی را به همراه\n",
    "    Principal Components\n",
    "    ‌های مورد نظر بگیرد و آن را دوباره با آن PC‌ها بازسازی کند.\n",
    "    برای نحوه‌ی انجام این کار از روابط زیر کمک بگیرید.\n",
    "    <br/>\n",
    "    $$W = U^T(\\Gamma - \\Psi)$$\n",
    "    $$rec = UW + \\Psi$$\n",
    "    <br/>\n",
    "    دقت کنید که $\\Gamma$\n",
    "    این‌جا عکس ورودی است.\n",
    "<div/>"
   ]
  },
  {
   "cell_type": "markdown",
   "id": "d176de68",
   "metadata": {},
   "source": [
    "<div dir=\"rtl\" style=\"font-size:18px\">\n",
    "    \n",
    "<div/>"
   ]
  },
  {
   "cell_type": "code",
   "execution_count": null,
   "id": "e1e7b39c",
   "metadata": {},
   "outputs": [],
   "source": [
    "def reconstruct_image(orig, pcs):\n",
    "    \"\"\"\n",
    "    A function to reconstruct the original image with the given PCs\n",
    "    Arguments\n",
    "    orig - Original image to perform reconstruction on\n",
    "    pcs  - The principal components to use for the reconstruction\n",
    "    \n",
    "    Returns\n",
    "    recon - The reconstruction of the orig from pcs\n",
    "    mse   - The Mean Squared Error of the recon with orig\n",
    "    \"\"\"\n",
    "    recon = None\n",
    "    mse = None\n",
    "    # todo\n",
    "    return recon, mse"
   ]
  },
  {
   "cell_type": "markdown",
   "id": "b37d8cfe",
   "metadata": {},
   "source": [
    "<div dir=\"rtl\" style=\"font-size:18px\">\n",
    "    )بخش ب(\n",
    "    <br/>\n",
    "    حال یکی از عکس‌های دیتاستی که تا الان روی آن کار کردیم )شامل 190 عکس طبیعی( را به صورت رندم انتخاب کنید.\n",
    "    برای آن عکس به ازای تمام حالت‌های انتخاب K عملیات بازسازی را انجام دهید.\n",
    "    <br/>\n",
    "    کمترین و بیشترین MSE را به دست آورید.\n",
    "    <br/>\n",
    "    MSE را برای Kای که در قسمت قبل انتخاب کردید محاسبه نمایید.\n",
    "    <br/>\n",
    "    سپس نمودار \n",
    "    MSE-number of largest principal components\n",
    "    را رسم کنید.\n",
    "    <br/>\n",
    "    در مرحله‌ی بعد برای یک عکس رندم دیگر از دیتاست، عکس اصلی را همراه عکس‌هایی که از بازسازی با در نظر گرفتن \n",
    "    5 انتخاب مختلف برای K که کل محدوده تعداد \n",
    "    eigen face‌ها را پوشش دهد، \n",
    "    رسم کنید.\n",
    "    <br/>\n",
    "    نتایج خود را از کار‌هایی که این بخش انجام دادید و از روی خروجی‌های بدست آمده شرح دهید.\n",
    "<div/>"
   ]
  },
  {
   "cell_type": "code",
   "execution_count": null,
   "id": "b82b2714",
   "metadata": {},
   "outputs": [],
   "source": []
  },
  {
   "cell_type": "markdown",
   "id": "a665d27a",
   "metadata": {},
   "source": [
    "##  Smiling  images (10 points)"
   ]
  },
  {
   "cell_type": "markdown",
   "id": "8604ef54",
   "metadata": {},
   "source": [
    "<div dir=\"rtl\" style=\"font-size:18px\">\n",
    "    حال این بار تمام کار‌هایی که در بخش قبل )بخش ب( انجام دادید را تکرار کنید. \n",
    "    ولی این بار به جای عکس‌های رندم از چهره‌های عادی، عکس رندم از چهره‌های خندان انتخاب کنید.\n",
    "    نتایج خود را از کار‌هایی که این بخش انجام دادید و از روی خروجی‌های بدست آمده شرح دهید.\n",
    "    به نظرتان دلایل تفاوت خروجی‌ها در هر قسمت نسبت به قسمت قبل چیست؟\n",
    "<div/>"
   ]
  },
  {
   "cell_type": "code",
   "execution_count": null,
   "id": "514205c3",
   "metadata": {},
   "outputs": [],
   "source": []
  },
  {
   "cell_type": "markdown",
   "id": "6244a0a3",
   "metadata": {},
   "source": [
    "## Reconstruction of test set (10 points)\n"
   ]
  },
  {
   "cell_type": "markdown",
   "id": "be490862",
   "metadata": {},
   "source": [
    "<div dir=\"rtl\" style=\"font-size:18px\">\n",
    "تا به اینجای کار ما با محاسبه MSE و بازسازی دوباره  عکس‌ها به  شهودی عددی و بصری از دقت فضای جدید یا همان  face space خود رسیدیم. اما نمی‌توان از این نکته چشم‌پوشی کرد که ارزیابی‌های ما از فضای جدید با استفاده از عکس‌هایی انجام شده که با آنها face space را ساخته‌ایم. در نتیجه این ارزیابی ما به نوعی biased است. برای ارزیابی بهتر MSE را بر روی تعدادی عکس که الگوریتم آنها را تا به حال ندیده است انجام داده و آنها را بازسازی می‌کنیم.\n",
    "    <br/>\n",
    "    در این قسمت یک عکس از ۱۰ عکس دیده نشده حالت طبیعی را انتخاب نموده و کارهای بخش ب را بر روی آن پیاده کنید. ارزیابی چه تفاوتی کرده است؟ نتیجه‌گیری کنید.\n",
    "    <br/>\n",
    "<div/>"
   ]
  },
  {
   "cell_type": "code",
   "execution_count": null,
   "id": "89de6cec",
   "metadata": {},
   "outputs": [],
   "source": []
  },
  {
   "cell_type": "markdown",
   "id": "453a8b0a",
   "metadata": {},
   "source": [
    "## Reconstruction of non-human image (10 points)"
   ]
  },
  {
   "cell_type": "markdown",
   "id": "a97eea39",
   "metadata": {},
   "source": [
    "<div dir=\"rtl\" style=\"font-size:18px\">\n",
    "دو عکس غیر از چهره انسان و به دلخواه خود )مثل عکس ماشین یا پرنده( را در نظر گرفته.\n",
    "    نخست عملیات‌های لازم مثل سیاه سفید کردن یا تغییر سایز را انجام دهید.\n",
    "    سپس با استفاده از تمام PCها \n",
    "    سعی بر بازسازی آن داشته باشید و MSE را محاسبه نمایید.\n",
    "    <br/>\n",
    "    آیا الگوریتم به اندازه عکس چهره‌ها موفق عمل کرد؟‌ چرا؟ نتیجه‌گیری کنید.\n",
    "    <br/>\n",
    "<div/>"
   ]
  },
  {
   "cell_type": "code",
   "execution_count": null,
   "id": "722eafa7",
   "metadata": {},
   "outputs": [],
   "source": []
  },
  {
   "cell_type": "markdown",
   "id": "5a0172c8",
   "metadata": {},
   "source": [
    "## Image Rotation (10 points)"
   ]
  },
  {
   "cell_type": "markdown",
   "id": "1729145a",
   "metadata": {},
   "source": [
    "<div dir=\"rtl\" style=\"font-size:18px\">\n",
    "    حال یکی از عکس‌های دیتاستی که تا الان روی آن کار کردیم )شامل 190 عکس طبیعی( را به صورت رندم انتخاب کنید. برای آن عکس تمام rotationهای ممکن\n",
    "    )از 0 تا 360( را انجام دهید.\n",
    "    حال روی هر یک از عکس‌های بدست آمده با استفاده از تمام PCها عملیات بازسازی و محاسبه‌ی MSE را انجام دهید.\n",
    "    <br/>\n",
    "    نمودار MSE بر حسب درجه‌ی چرخش را رسم کنید.\n",
    "    <br/>\n",
    "    برای 10 درجه به صورت یکنواخت بین 360 و 0، عکس اصلی، عکس بعد از دوران، عکس بازسازی‌شده به کمک الگوریتم را رسم کنید.\n",
    "    <br/>\n",
    "    نتایج به دست آمده را تحلیل کنید. آیا MSE در حالت 360 درجه دوران با حالت 0 برابر است؟\n",
    "    چرا؟\n",
    "    <br/>\n",
    "    <br/>\n",
    "    <font color=blue>\n",
    "    با استفاده از ndimage میتوانید عکس های خود را بچرخانید.\n",
    "        <font/>\n",
    "        <br/>\n",
    "<div/>"
   ]
  },
  {
   "cell_type": "code",
   "execution_count": null,
   "id": "b8fae2d8",
   "metadata": {},
   "outputs": [],
   "source": []
  },
  {
   "cell_type": "markdown",
   "id": "de06c19b",
   "metadata": {},
   "source": [
    "## Face Recognition (10 point)"
   ]
  },
  {
   "cell_type": "markdown",
   "id": "b55de031",
   "metadata": {},
   "source": [
    "<div dir=\"rtl\" style=\"font-size:18px\">\n",
    "    در این قسمت شما باید Face Recognition را تکمیل کنید. به این معنا که کد شما باید این قابلیت را داشته باشد که پس از اجرای PCA ، تصویر‌ها را پشت سر هم ورودی بگیرد ، و بعد از گرفتن هر تصویر بگوید که آیا این شخص را قبلا دیده است یا نه.\n",
    "    <br/>\n",
    "    برای اینکار لازم است به این صورت عمل کنید. در ابتدا 10 تا از بهترین پایه های فضا را انتخاب کنید. سپس هر تصویری که به شما داده میشود را میتوانید به صورت یک بردار 10 تایی از ضرایب نشان داد. که برای هر تصویر این ضریب منحصر به فرد میباشد. حال اگر برای 2 بردار 10 تایی خاص ، این ضرایب به اندازه کافی به هم نزدیک باشند میتوانیم بگوییم که تصویر متعلق به یک شخص میباشد.\n",
    "    <br/>\n",
    "<div/>"
   ]
  },
  {
   "cell_type": "code",
   "execution_count": null,
   "id": "14c1b17c",
   "metadata": {},
   "outputs": [],
   "source": []
  }
 ],
 "metadata": {
  "kernelspec": {
   "display_name": "Python 3",
   "language": "python",
   "name": "python3"
  },
  "language_info": {
   "codemirror_mode": {
    "name": "ipython",
    "version": 3
   },
   "file_extension": ".py",
   "mimetype": "text/x-python",
   "name": "python",
   "nbconvert_exporter": "python",
   "pygments_lexer": "ipython3",
   "version": "3.9.6"
  }
 },
 "nbformat": 4,
 "nbformat_minor": 5
}
